{
 "cells": [
  {
   "cell_type": "code",
   "execution_count": null,
   "metadata": {},
   "outputs": [],
   "source": []
  }
 ],
 "metadata": {
  "kernelspec": {
   "display_name": "Python 3",
   "language": "python",
   "name": "python3"
  },
  "language_info": {
   "name": "python",
   "version": "3.11.1"
  },
  "orig_nbformat": 4,
  "vscode": {
   "interpreter": {
    "hash": "bad98bfb22ce2b61bd8cd3ecdc4d9cc30c70e1398c862f556e8f1b2a367a98b4"
   }
  }
 },
 "nbformat": 4,
 "nbformat_minor": 2
}
