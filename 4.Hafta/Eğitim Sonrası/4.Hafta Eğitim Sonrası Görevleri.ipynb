{
 "cells": [
  {
   "cell_type": "markdown",
   "metadata": {},
   "source": [
    "# Problem 1\n",
    "`ogrenciler` adında bir sözlük oluşturunuz. Kullanıcıdan döngü yardımıyla 3 öğrenci için veri girmesini isteyerek öğrencilerin sırasıyla okul numarası, isim, soy isim, telefon numarası ve doğum tarihi bilgilerini alınız. Aldığınız öğrenci bilgilerini yine aynı döngü yardımıyla `ogrenciler` adındaki sözlükte saklayınız. Daha sonra öğrenci bilgilerinin bulunduğu sözlük yapısını ekrana bastırınız.\n",
    "\n"
   ]
  },
  {
   "cell_type": "code",
   "execution_count": 10,
   "metadata": {},
   "outputs": [
    {
     "name": "stdout",
     "output_type": "stream",
     "text": [
      "{1: {'okul numarsı: ': 'lokk', 'isim: ': '11', 'soyisim: ': '1', 'telefon numarası: ': '1', 'doğum tarihi: ': '3'}, 2: {'okul numarsı: ': '3', 'isim: ': '545', 'soyisim: ': '65', 'telefon numarası: ': '6', 'doğum tarihi: ': '6'}, 3: {'okul numarsı: ': '6', 'isim: ': '6', 'soyisim: ': '234', 'telefon numarası: ': '24', 'doğum tarihi: ': '21'}}\n"
     ]
    }
   ],
   "source": [
    "#bir ögrenci sözlüğüü tamınlayıp onu da range ile 3 kere cevirelim .\n",
    "# okulNo, isim, soyisim, telNo ve doğum tahiri(dt) input edilecek\n",
    "\n",
    "ogrencıler = {}\n",
    "for i in range(1,4) :# i dediğimiz bizim istediğimiz küme. # range 4 yazdık çünkü 3 kere döndürecek yani 4 e kadar 4 hariç oldugu içim.\n",
    "    okulNo = input(\"Lütfen okul numarasını giriniz: \")\n",
    "    isim = input(\"Lütfen isim giriniz: \")\n",
    "    soyisim = input(\"Lütfen soyisim giriniz: \")\n",
    "    telNo = input(\"Lütfen telefon numarasını giriniz: \")\n",
    "    dt = input(\"Lütfen doğum tarihini giriniz: \")\n",
    "\n",
    "    ogrencıler[i] = {\"okul numarsı: \" : okulNo\n",
    "                    , \"isim: \" : isim\n",
    "                    , \"soyisim: \" : soyisim \n",
    "                    , \"telefon numarası: \" : telNo\n",
    "                    , \"doğum tarihi: \" : dt}\n",
    "    \n",
    "#print(ogrencıler[i], end='  ')\n",
    "#print()\n",
    "print(ogrencıler)"
   ]
  },
  {
   "cell_type": "markdown",
   "metadata": {},
   "source": [
    "# Problem 2\n",
    "\n",
    "### a - Biraz ısınarak başlayalım!\n",
    "\n",
    "```\n",
    "numbers = [5,10,10,15,15,15,20,20,20,20]\n",
    "```\n",
    "\n",
    "Yukarıda `numbers` adında 10 elemanlı bir liste verilmiştir. Bu listenin her elemanını kontrol eden ve tekrar eden elemanları bir kez olacak şekilde başka bir listeye kopyalayan bir program yazınız. Son olarak oluşturduğunuz listeyi ekrana bastırınız.\n",
    "\n",
    "\n",
    "\n",
    "\n",
    "```\n",
    ">Output\n",
    "[5, 10, 15, 20]\n",
    "```\n"
   ]
  },
  {
   "cell_type": "code",
   "execution_count": 12,
   "metadata": {},
   "outputs": [
    {
     "name": "stdout",
     "output_type": "stream",
     "text": [
      "[5, 10, 15, 20]\n"
     ]
    }
   ],
   "source": [
    "# her eleman sözcüğü geçiyorsa aklıma hemen for dögüsü gelmeli.abs\n",
    "# farklı bir listeye ekleyecek yani .appened kullanabiilirim.abs\n",
    "# tekrarEdenler ve tekrarEtmeyenler şeklinde iki liste tanımlarsak tamamdır.abs\n",
    "\n",
    "numbers = [5,10,10,15,15,15,20,20,20,20]\n",
    "\n",
    "boşListe = []\n",
    "\n",
    "for i in numbers:\n",
    "    if i in boşListe:\n",
    "        continue  #bu 3 satır şöyle demek: eger numbers alınan eleman boşlistede varsa bir sonraki adıma atla. \n",
    "    else: \n",
    "        boşListe.append(i) # eger numbers tan alınan eleman boşlistede yoksa o elemanı boş listeye ekle. bu sayede her eleman bir kere olacak sekilde boş listeye eklenir. \n",
    "\n",
    "print(boşListe)\n"
   ]
  },
  {
   "cell_type": "markdown",
   "metadata": {},
   "source": [
    "### 🌶️ b) Hadi işi biraz daha zorlaştıralım! \n",
    "\n",
    "\n",
    "Şimdiyse senden `numbers` isimli listedeki tekrar eden elemanları `repeatNumbers` adındaki listeye; tekrar etmeyen elemanları `uniqueNumbers`adındaki listeye kopyalayan yazmanı ve listeleri ekrana bastırmanı bekliyoruz\n",
    "\n",
    "```\n",
    ">Output\n",
    "Tekrar Eden Elemanlar: [10, 10, 15, 15, 15, 20, 20, 20, 20]\n",
    "Tekrar Etmeyen Elemanlar: [5]\n",
    "```"
   ]
  },
  {
   "cell_type": "code",
   "execution_count": 16,
   "metadata": {},
   "outputs": [
    {
     "name": "stdout",
     "output_type": "stream",
     "text": [
      "Tekrar Edenler:  [10, 10, 15, 15, 15, 20, 20, 20, 20]\n",
      "Tekrar Etmeyenler:  [5]\n"
     ]
    }
   ],
   "source": [
    "numbers = [5,10,10,15,15,15,20,20,20,20]\n",
    "\n",
    "tekrarEtmeyenler =[]\n",
    "tekrarEdenler = []\n",
    "\n",
    "for i in numbers :\n",
    "    if numbers.count(i) == 1: \n",
    "        tekrarEtmeyenler.append(i)\n",
    "    else:\n",
    "        tekrarEdenler.append(i)\n",
    "\n",
    "print(\"Tekrar Edenler: \", tekrarEdenler)\n",
    "print(\"Tekrar Etmeyenler: \", tekrarEtmeyenler) \n"
   ]
  },
  {
   "cell_type": "markdown",
   "metadata": {},
   "source": [
    "# Problem 3\n",
    "sn1 = {1,2,3,4,5}\n",
    "\n",
    "sn2 = {4,5,6,7,8}\n",
    "\n",
    " Verilen 2 adet küme için kesişimlerini, farklarını ve birleşimlerini bulunuz. "
   ]
  },
  {
   "cell_type": "code",
   "execution_count": 25,
   "metadata": {},
   "outputs": [
    {
     "name": "stdout",
     "output_type": "stream",
     "text": [
      "Kesişim Kümesi: {4, 5} Fark Kümesi: {1, 2, 3} Birleşim Kümesi: {1, 2, 3, 4, 5, 6, 7, 8}\n"
     ]
    }
   ],
   "source": [
    "# Kesişim için # liste.intersection(liste2) formatını,\n",
    "# farkları için ! liste.difference(liste2) formatını, \n",
    "# birleşim için * liste.union(liste2) formatını kullanabiliriz.\n",
    "\n",
    "sn1 = {1,2,3,4,5}\n",
    "sn2 = {4,5,6,7,8}\n",
    "\n",
    "kesisim = sn1.intersection(sn2)\n",
    "\n",
    "farkları = sn1.difference(sn2)\n",
    "\n",
    "birlesim = sn1.union(sn2)\n",
    "\n",
    "print(\"Kesişim Kümesi:\",kesisim, \"Fark Kümesi:\", farkları ,\"Birleşim Kümesi:\", birlesim ) "
   ]
  },
  {
   "cell_type": "markdown",
   "metadata": {},
   "source": [
    "# Problem 4\n",
    "\n",
    "Buradaki işlemlerimizin tamamı stringler içindir. Aşağıda verilecek olan metodlar için kendinizin örnek yaratması gerekmektedir. \n",
    "\n",
    "Örneğin `upper` için `string` değişkeni oluştururken` k = \"BAC\"` şeklinde oluşturmayınız. Bunun yerine k değişkenini `k = \"bac`\" şeklinde oluşturmanız `upper` metodundaki değişimi görebilmeniz için daha iyi olacaktır.\n",
    "\n",
    "Bütün metodlardaki değişimin gözle görülür şekilde değişimi beklenmektedir.\n",
    "\n",
    "\n",
    "1- capitalize(), lower(), upper(), swapcase(), title(), replace()\n",
    "\n",
    "2- endswith(), startswith(), find(), index(), count()\n",
    "\n",
    "3- split(), strip(), join(), islower(), isalpha(), isdigit()\n",
    "\n",
    "\n",
    "Yukarıdaki `string` metodlarındaki değişimleri görebildiğimiz bir program yazınız.\n"
   ]
  },
  {
   "cell_type": "code",
   "execution_count": 34,
   "metadata": {},
   "outputs": [
    {
     "name": "stdout",
     "output_type": "stream",
     "text": [
      "Capitalize, ilk karakteri büyütür.\n",
      "lowe, büyük tüm harfleri̇ küçük yapar\n",
      "UPPER, TÜM HARFLERI BÜYÜK YAPAR\n",
      "SWAPCASE, KÜÇÜKLERI büyük, büyükleri̇ KÜÇÜK YAPAR\n",
      "Tittle, Baş Harflerini Büyük Yapar\n",
      "replace, bir ifadeyi bir ifade ile değiştirir\n"
     ]
    }
   ],
   "source": [
    "#1  \n",
    "#capitalize(), ilk karakteri büyütür.  \n",
    "#lower(), büyük TÜM harfleri küçük yapar\n",
    "#upper(), \n",
    "#swapcase(), \n",
    "#title(), \n",
    "#replace()\n",
    "\n",
    "k = \"capitalize, ilk karakteri büyütür.\"\n",
    "print(k.capitalize())\n",
    "\n",
    "k= \"lowe, BÜYÜK TÜM HARFLERİ küçük YAPAR\"\n",
    "print(k.lower())\n",
    "\n",
    "k = \"upper, Tüm harfleri büyük yapar\"\n",
    "print(k.upper())\n",
    "\n",
    "k = \"swapcase, küçükleri BÜYÜK, BÜYÜKLERİ küçük yapar\"\n",
    "print(k.swapcase())\n",
    "\n",
    "k = \"tittle, baş harflerini büyük yapar\"\n",
    "print(k.title())\n",
    "\n",
    "k = \"replace, iki ifadeyi bir ifade ile değiştirir\"\n",
    "print(k.replace(\"iki\" , \"bir\"))"
   ]
  },
  {
   "cell_type": "code",
   "execution_count": 47,
   "metadata": {},
   "outputs": [
    {
     "name": "stdout",
     "output_type": "stream",
     "text": [
      "True\n",
      "True\n",
      "33\n",
      "36\n",
      "7\n"
     ]
    }
   ],
   "source": [
    "#2-\n",
    "#endswith(), \n",
    "#startswith(), \n",
    "#find(), \n",
    "#index(), \n",
    "#count()\n",
    "\n",
    "k = \"endswitch, sondaki değişken ile bitiyorsa True döndürür\"\n",
    "print(k.endswith(\"döndürür\"))\n",
    "\n",
    "k= \"startswitch, baştaki değişken ile bitiyorsa True döndürür\"\n",
    "print(k.startswith(\"st\"))\n",
    "\n",
    "k = \"find, yazılan değişken varsa onu bulup sırasını yazar.\"\n",
    "print(k.find(\"bulup\"))\n",
    "\n",
    "k = \"index, yazılan değişken varsa onu bulup indexini yazar.\"\n",
    "print(k.index(\"lup\"))\n",
    "\n",
    "k = \"count, kaç tane yazılan değişkenden varsa onun sayısını verir.\"\n",
    "print(k.count(\"a\"))"
   ]
  },
  {
   "cell_type": "code",
   "execution_count": 58,
   "metadata": {},
   "outputs": [
    {
     "name": "stdout",
     "output_type": "stream",
     "text": [
      "['part', 'üc', 'calışması']\n",
      "part üc calışması\n",
      "*part üc calışması*part üc calışması*part üc calışması*part üc calışması*\n",
      "True\n",
      "False\n",
      "False\n"
     ]
    }
   ],
   "source": [
    "#3-\n",
    "#split(), \n",
    "#strip(), \n",
    "#join(), \n",
    "#islower(), \n",
    "#isalpha(), \n",
    "#isdigit()\n",
    "\n",
    "k= \"             part üc calışması\"\n",
    "print(k.split()) \n",
    "\n",
    "k= \" part üc calışması\"\n",
    "print(k.strip())\n",
    "\n",
    "k= \"part üc calışması\"\n",
    "print(k.join(\"*****\"))\n",
    "\n",
    "\n",
    "k= \"part üc calışması\"\n",
    "print(k.islower())\n",
    "\n",
    "\n",
    "k= \"part üc calışması\"\n",
    "print(k.isalpha())\n",
    " \n",
    "\n",
    "k= \"part üc calışması\"\n",
    "print(k.isdigit())\n",
    "\n"
   ]
  },
  {
   "cell_type": "code",
   "execution_count": 7,
   "metadata": {},
   "outputs": [
    {
     "data": {
      "text/plain": [
       "<function __main__.helloWorld(name='Ziyaretçi')>"
      ]
     },
     "execution_count": 7,
     "metadata": {},
     "output_type": "execute_result"
    }
   ],
   "source": [
    "def helloWorld(name = \"Ziyaretçi\"):\n",
    "    print(\"Merhaba\", name)\n",
    "    \n",
    "helloWorld"
   ]
  }
 ],
 "metadata": {
  "kernelspec": {
   "display_name": "Python 3.10.5 64-bit",
   "language": "python",
   "name": "python3"
  },
  "language_info": {
   "codemirror_mode": {
    "name": "ipython",
    "version": 3
   },
   "file_extension": ".py",
   "mimetype": "text/x-python",
   "name": "python",
   "nbconvert_exporter": "python",
   "pygments_lexer": "ipython3",
   "version": "3.11.1"
  },
  "orig_nbformat": 4,
  "vscode": {
   "interpreter": {
    "hash": "5026d2d6e7aaaaba093def813beadff083d8733e4a511af01735cbabd156995d"
   }
  }
 },
 "nbformat": 4,
 "nbformat_minor": 2
}
