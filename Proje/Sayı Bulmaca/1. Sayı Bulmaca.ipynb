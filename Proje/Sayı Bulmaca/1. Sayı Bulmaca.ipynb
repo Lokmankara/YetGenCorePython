{
 "cells": [
  {
   "cell_type": "code",
   "execution_count": 2,
   "metadata": {},
   "outputs": [
    {
     "name": "stdout",
     "output_type": "stream",
     "text": [
      "Hello Python\n"
     ]
    }
   ],
   "source": [
    "print(\"Hello Python\")"
   ]
  },
  {
   "cell_type": "code",
   "execution_count": 9,
   "metadata": {},
   "outputs": [
    {
     "name": "stdout",
     "output_type": "stream",
     "text": [
      "Oyunumuza hoşgeldiniz ! Senden 0-100 aralığında bir sayı tuttum, bu sayıyı tahmin etmeni bekliyorum\n",
      "Daha BÜYÜK bir sayı seç.\n",
      "Daha BÜYÜK bir sayı seç.\n",
      "Daha BÜYÜK bir sayı seç.\n",
      "Daha küçük bir sayı seç.\n",
      "Daha küçük bir sayı seç.\n",
      "Maalesef bulamadın. Tuttuğum sayı: 51.\n",
      "Puanın: 0\n"
     ]
    }
   ],
   "source": [
    "import random\n",
    "\n",
    "class sayi_bulmaca:\n",
    "    def __init__(self):\n",
    "        self.kacinci_tahmin = 0\n",
    "        self.sayi = random.randint(1, 100)\n",
    "        self.tahmin_hakki = 0\n",
    "        self.kalan_tahmin = 0\n",
    "\n",
    "    def tahmin_hakkini_belirle(self):\n",
    "        while True:\n",
    "            try:\n",
    "                tahmin_hakki = int(input(\"Kaç tahmin hakkı istersiniz?: \"))\n",
    "                if tahmin_hakki > 0:\n",
    "                    self.tahmin_hakki = tahmin_hakki\n",
    "                    self.kalan_tahmin = tahmin_hakki\n",
    "                    break\n",
    "                \n",
    "                    \n",
    "            except ValueError:\n",
    "                print(\"Bir tamsayı girmelisin!\")\n",
    "    \n",
    "\n",
    "\n",
    "\n",
    "    def oyun(self):\n",
    "        self.tahmin_hakkini_belirle()\n",
    "        print(\"Oyunumuza hoşgeldiniz ! Senden 0-100 aralığında bir sayı tuttum, bu sayıyı tahmin etmeni bekliyorum\")\n",
    "\n",
    "        while self.kalan_tahmin > 0:\n",
    "            try:\n",
    "                tahmin = int(input(\"Tahmininizi giriniz: \"))\n",
    "                if tahmin < 0 or tahmin > 100:\n",
    "                    print(\"Lütfen 0 ile 100 aralığında bir sayı giriniz!\")\n",
    "                    continue\n",
    "            except ValueError:\n",
    "                print(\"Bir tam sayı girmelisin!\")\n",
    "                continue\n",
    "\n",
    "            self.kacinci_tahmin += 1\n",
    "            self.kalan_tahmin -= 1\n",
    "\n",
    "            if tahmin == self.sayi:\n",
    "                print(f\"Harikasın! {self.kacinci_tahmin}. denemede doğru tahmin ettin.\")\n",
    "                puan = 100 - (self.kaçinci_tahmin - 1) * 5\n",
    "                print(f\"Puanın: {puan}\")\n",
    "                break\n",
    "            elif tahmin < self.sayi:\n",
    "                print(\"Daha BÜYÜK bir sayı seç.\")\n",
    "            \n",
    "            else:\n",
    "                print(\"Daha küçük bir sayı seç.\")\n",
    "                \n",
    "                if abs(tahmin-self.sayi) <= 5:\n",
    "                   print(\"Sıcak\")\n",
    "                \n",
    "            \n",
    "\n",
    "            \n",
    "         \n",
    "\n",
    "            \n",
    "        else:\n",
    "            print(f\"Maalesef bulamadın. Tuttuğum sayı: {self.sayi}.\")\n",
    "            print(\"Puanın: 0\")\n",
    "    \n",
    "\n",
    "    \n",
    "    \n",
    "\n",
    "\n",
    "\n",
    "oyun = sayi_bulmaca()\n",
    "oyun.oyun()\n"
   ]
  },
  {
   "cell_type": "code",
   "execution_count": null,
   "metadata": {},
   "outputs": [],
   "source": [
    "#Meliha Topkara\n",
    "#Lokman Kara\n",
    "#Hamide Yeşildal"
   ]
  }
 ],
 "metadata": {
  "kernelspec": {
   "display_name": "Python 3",
   "language": "python",
   "name": "python3"
  },
  "language_info": {
   "codemirror_mode": {
    "name": "ipython",
    "version": 3
   },
   "file_extension": ".py",
   "mimetype": "text/x-python",
   "name": "python",
   "nbconvert_exporter": "python",
   "pygments_lexer": "ipython3",
   "version": "3.11.1"
  },
  "orig_nbformat": 4,
  "vscode": {
   "interpreter": {
    "hash": "1f6a27bcfbe46a917dbd192f4a82657396dda26148bae633192e8d28c70725f1"
   }
  }
 },
 "nbformat": 4,
 "nbformat_minor": 2
}
