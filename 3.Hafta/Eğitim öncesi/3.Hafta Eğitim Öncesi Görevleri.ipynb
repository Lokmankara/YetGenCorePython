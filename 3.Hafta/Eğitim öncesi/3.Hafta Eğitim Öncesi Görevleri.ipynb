{
  "cells": [
    {
      "cell_type": "markdown",
      "metadata": {
        "id": "tsD4YVAe_Te2"
      },
      "source": [
        "# Problem 1\n",
        "Bir sayının 7'ye bölünebilir olup olmadığını kontrol etmek \n",
        "için bir program yazın.\n",
        "\n",
        "İpucu: Mod operatörünü (%) kullanabilirsiniz."
      ]
    },
    {
      "cell_type": "code",
      "execution_count": 27,
      "metadata": {
        "id": "NGjvNwKx_Te7"
      },
      "outputs": [
        {
          "name": "stdout",
          "output_type": "stream",
          "text": [
            "Girilen sayı 7 ye tam bölünmektedir.\n"
          ]
        }
      ],
      "source": [
        "# 1.Problemin Çözümünü Buraya Yazınız\n",
        "\n",
        "sonuc = 0\n",
        "sayi = int(input(\"Bir sayı giriniz: \"))\n",
        "sayi %= 7 \n",
        "\n",
        "#print(\"girilen sayınızdan kalan\", sayi)\n",
        "\n",
        "if sonuc == sayi:\n",
        "    print(\"Girilen sayı 7 ye tam bölünmektedir.\")\n",
        "\n",
        "elif sonuc > sayi:\n",
        "    print(\"Girilen sayı 7 ye tam bölünmemektedir.\")\n",
        "\n",
        "else :\n",
        "    print(\"Girilen sayı 7 ye tam bölünmemektedir.\")\n",
        "  "
      ]
    },
    {
      "cell_type": "markdown",
      "metadata": {
        "id": "Kg3qiBAI_Te8"
      },
      "source": [
        "# Problem 2\n",
        "Kullanıcıdan vize ve final notu isteyin. Girilen vize notunun %40’ı ve \n",
        "girilen finalnotunun ise %60’ı alınarak yıl sonu not ortalaması hesaplanacaktır. \n",
        "\n",
        "Bu not ortalaması eğer 85 ve üzeri ise AA, \n",
        "\n",
        "75 ve 85 arasında ise BA, \n",
        "\n",
        "70 ve 75 arasında ise BB, \n",
        "\n",
        "65 ve 70 arasında ise CB,\n",
        "\n",
        "60 ve 65 arasında ise CC,\n",
        "\n",
        "55 ve 60 arasında ise DC,\n",
        "\n",
        "50 ve 55 arasında ise DD olarak hesaplanacaktır. \n",
        "\n",
        "Bu öğrencinin yıl sonu toplam notu 50’nin altında ise FF ile dersten kalacaktır. \n",
        "\n",
        "Ayrıca öğrencinin final notu 50’nin altında ise direkt FF ile kalacaktır."
      ]
    },
    {
      "cell_type": "code",
      "execution_count": 1,
      "metadata": {
        "id": "MXTtCxI1_Te8"
      },
      "outputs": [
        {
          "name": "stdout",
          "output_type": "stream",
          "text": [
            "Not ortalamınızın harf karşılığı CC'dır.\n"
          ]
        }
      ],
      "source": [
        "#Öncelikle vize diye bir input alalım. Sonra bunun yüzde 40 nı alalım.\n",
        "#Final notunu input ile alıp onun da yüzde 60 nı alalım. \n",
        "#if, elif ve else ile değerler hesaplanır. \n",
        "\n",
        "vize = int(input(\"Vize notunuzu giriniz:\"))\n",
        "final = int(input(\"Final notunuzu giriniz:\"))\n",
        "\n",
        "son = (vize *40/100) + (final *60/100 )\n",
        "#print(son)  #Kontrol noktası. \n",
        "\n",
        "if final<50 :\n",
        "    print(\"Not ortalamınızın harf karşılığı FF'dır.KALDINIZ\")\n",
        "\n",
        "\n",
        "if son >= 85:\n",
        "    print(\"Not ortalamınızın harf karşılığı AA'dır.\")\n",
        "elif   85> son >75:\n",
        "    print(\"Not ortalamınızın harf karşılığı BA'dır.\")\n",
        "elif   75> son >70:\n",
        "    print(\"Not ortalamınızın harf karşılığı BB'dır.\")\n",
        "elif   70> son >65:\n",
        "    print(\"Not ortalamınızın harf karşılığı CB'dır.\")\n",
        "elif   65> son >60:\n",
        "    print(\"Not ortalamınızın harf karşılığı CC'dır.\")\n",
        "elif   60> son >55:\n",
        "    print(\"Not ortalamınızın harf karşılığı DC'dır.\")\n",
        "elif   55> son >50:\n",
        "    print(\"Not ortalamınızın harf karşılığı DD'dır.\")\n",
        "else:\n",
        "    print(\"Not ortalamınızın harf karşılığı FF'dır.KALDINIZ\")\n",
        "\n"
      ]
    },
    {
      "cell_type": "code",
      "execution_count": 7,
      "metadata": {},
      "outputs": [
        {
          "name": "stdout",
          "output_type": "stream",
          "text": [
            "Not ortalamınızın harf karşılığı FF'dır.Finalden 50 altı not aldığınız için KALDINIZ\n"
          ]
        }
      ],
      "source": [
        "#Öncelikle vize diye bir input alalım. Sonra bunun yüzde 40 nı alalım.\n",
        "#Final notunu input ile alıp onun da yüzde 60 nı alalım. \n",
        "#if, elif ve else ile değerler hesaplanır. \n",
        "\n",
        "vize = int(input(\"Vize notunuzu giriniz:\"))\n",
        "final = int(input(\"Final notunuzu giriniz:\"))\n",
        "\n",
        "son = (vize *40/100) + (final *60/100 )\n",
        "#print(son)  #Kontrol noktası. \n",
        "\n",
        "\n",
        "\n",
        "\n",
        "if son >= 85:\n",
        "    print(\"Not ortalamınızın harf karşılığı AA'dır.\")\n",
        "elif final<50 :\n",
        "    print(\"Not ortalamınızın harf karşılığı FF'dır.Finalden 50 altı not aldığınız için KALDINIZ\")\n",
        "elif   85> son >75:\n",
        "    print(\"Not ortalamınızın harf karşılığı BA'dır.\")\n",
        "elif   75> son >70:\n",
        "    print(\"Not ortalamınızın harf karşılığı BB'dır.\")\n",
        "elif   70> son >65:\n",
        "    print(\"Not ortalamınızın harf karşılığı CB'dır.\")\n",
        "elif   65> son >60:\n",
        "    print(\"Not ortalamınızın harf karşılığı CC'dır.\")\n",
        "elif   60> son >55:\n",
        "    print(\"Not ortalamınızın harf karşılığı DC'dır.\")\n",
        "elif   55> son >50:\n",
        "    print(\"Not ortalamınızın harf karşılığı DD'dır.\")\n",
        "\n",
        "else:\n",
        "    print(\"Not ortalamınızın harf karşılığı FF'dır.KALDINIZ\")\n",
        "\n"
      ]
    },
    {
      "cell_type": "markdown",
      "metadata": {
        "id": "tAoRYCTC_Te8"
      },
      "source": [
        "# Problem 3\n",
        "İki YetGenli Zirve'de karşılaşıyorlar. Birbirlerini tanımak için sorular soruyorlar. Birbirlerine yaşlarını soruyorlar. Akıllarına bir Python programı yazıp, yaşlarını ve isimlerini giriyorlar. Büyük olanın yaşını ekrana yazdıran programı yazıyorlar. Sende bu iki YetGenli'ye destek olmak ister misin?\n",
        "\n",
        "```\n",
        "Birinci YetGenlinin ismi: Ahmet\n",
        "Birinci YetGenlinin yaşı : 20\n",
        "İkinci YetGenlinin ismi: Mehmet\n",
        "İkinci YetGenlinin yaşı : 25\n",
        "Mehmet'in yaşı daha büyük ve yaşı 25'tir.\n",
        "```"
      ]
    },
    {
      "cell_type": "code",
      "execution_count": 10,
      "metadata": {
        "id": "bPjE8W0i_Te8"
      },
      "outputs": [
        {
          "name": "stdout",
          "output_type": "stream",
          "text": [
            "Mehmet Ahmet ten büyüktür ve yaşı 25\n"
          ]
        }
      ],
      "source": [
        "# 3.Problemin Çözümünü Buraya Yazınız\n",
        "# önce yetgenlileri yaşları ile atama yapalım ki büyüklük hakkında fikir versin.abs\n",
        "# sonra if degerini  else ile bu problemi çözmeye odaklanalım. \n",
        "ahmet = int(input(\"Ahmet'in yaşını giriniz:\"))\n",
        "mehmet = int(input(\"Mehmet'in yaşını giriniz:\"))\n",
        "\n",
        "if ahmet > mehmet : \n",
        "    print(f\"Ahmet Mehmet ten büyüktür ve yaşı {ahmet}\")\n",
        "\n",
        "elif mehmet > ahmet :\n",
        "    print(f\"Mehmet Ahmet ten büyüktür ve yaşı {mehmet}\")\n",
        "else:\n",
        "    print(\"Ahmet ile Mehmetin yaşları eşittir.\")"
      ]
    },
    {
      "cell_type": "markdown",
      "metadata": {
        "id": "zBVv8Tyg_Te9"
      },
      "source": [
        "# Problem 4\n",
        "Pandemi döneminde AVM'lerde ateş ölçümü yapılıyor. AVM'ye giren kişinin ateş ölçümü 37.5 derecenin altında ise girişe izin veriliyor. 37.5 derecenin üstünde ise girişe izin verilmiyor. AVM'ye girişe izin verilip verilmediğini ekrana yazdıran bir program yazın.\n",
        "\n",
        "Program sonunda şöyle bir çıktı elde etmelisiniz:\n",
        "\n",
        "```\n",
        "Ateşiniz 37.5 derece. AVM'ye girebilirsin! Maske takmayı unutma!\n",
        "Ateşiniz 37.6 derece. AVM'ye giremezsin! Hemen evine dön!\n",
        "```"
      ]
    },
    {
      "cell_type": "code",
      "execution_count": null,
      "metadata": {
        "id": "TSAXs8et_Te9"
      },
      "outputs": [],
      "source": [
        "# 4.Problemin Çözümünü Buraya Yazınız"
      ]
    },
    {
      "cell_type": "markdown",
      "metadata": {
        "id": "6AEkZrDt_Te9"
      },
      "source": [
        "# Problem 5\n",
        "YetGen bir spor kulübüyle sponsorluk anlaşması yapıyor. Kulüp, sponsorluk anlaşmasına göre her YetGen liderinin beden kitle indeksini hesaplamak istiyor. Spor kulübü, beden kitle indeksini hesaplamak için YetGen Jump Python liderlerinden Berkcan ve Ahmet'i arıyor. Berkcan ve Ahmet, kulübe yardımcı olmak için bir Python programı yazıyorlar. Sende bu iki YetGen liderine destek olmak ister misin?\n",
        "\n",
        "Kullanıcıdan alınan boy ve kilo değerlerine göre beden kitle indeksini hesaplayın ve şu kurallara göre ekrana şu yazıları yazdırın.\n",
        "\n",
        "\n",
        "Beden Kitle İndeksi, kişinin ağırlığının (kg olarak) boyunun karesine (m olarak) bölünmesiyle hesaplanır.\n",
        "\n",
        "\n",
        "```\n",
        " BKİ 18.5'un altındaysa -------> Zayıf\n",
        "\n",
        " BKİ 18.5 ile 25 arasındaysa ------> Normal\n",
        "\n",
        " BKİ 25 ile 30 arasındaysa --------> Fazla Kilolu\n",
        "\n",
        " BKİ 30'un üstündeyse -------------> Obez\n",
        "```\n",
        "\n"
      ]
    },
    {
      "cell_type": "code",
      "execution_count": null,
      "metadata": {
        "id": "t-XPI_u0_Te-"
      },
      "outputs": [],
      "source": [
        "# 5.Problemin Çözümünü Buraya Yazınız"
      ]
    },
    {
      "cell_type": "markdown",
      "metadata": {
        "id": "oFsvQyaO_Te-"
      },
      "source": [
        "# Problem 6\n",
        "Kullanıcıdan isim, yaş ve eğitim bilgilerini isteyip ehliyet alabilme  durumunu kontrol ediniz. \n",
        "\n",
        "Ehliyet alma koşulu en az 18 yaşında ve eğitim durumu lise ya da üniversite olmalıdır. "
      ]
    },
    {
      "cell_type": "code",
      "execution_count": null,
      "metadata": {
        "id": "Tu2mcgco_Te-"
      },
      "outputs": [],
      "source": [
        "# 6.Problemin Çözümünü Buraya Yazınız"
      ]
    },
    {
      "cell_type": "markdown",
      "metadata": {
        "id": "eUkxVSAE_Te_"
      },
      "source": [
        "# Problem 7\n",
        "Bir yılın artık yıl olup olmadığını kontrol etmek için bir program yazın. \n",
        "Artık yıl kuralı:\n",
        "\n",
        "a) Eğer yılın son iki basamağı (00) ile bitmiyor ve yalnızca 4'e tam bölünüyorsa artık yıldır. Ya da, \n",
        "\n",
        "b) Eğer yıl 400'e tam bölünüyorsa artık yıldır.\n",
        "\n",
        "**Örneğin**\n",
        "```\n",
        "2017 artık yıl değildir.\n",
        "1900 artık yıl değildir\n",
        "2012 artık yıldır.\n",
        "2000 artık yıldır.\n",
        "```"
      ]
    },
    {
      "cell_type": "code",
      "execution_count": null,
      "metadata": {
        "id": "4uWh8qUL_Te_"
      },
      "outputs": [],
      "source": [
        "# 7.Problemin Çözümünü Buraya Yazınız"
      ]
    }
  ],
  "metadata": {
    "colab": {
      "provenance": []
    },
    "kernelspec": {
      "display_name": "Python 3.10.5 64-bit",
      "language": "python",
      "name": "python3"
    },
    "language_info": {
      "codemirror_mode": {
        "name": "ipython",
        "version": 3
      },
      "file_extension": ".py",
      "mimetype": "text/x-python",
      "name": "python",
      "nbconvert_exporter": "python",
      "pygments_lexer": "ipython3",
      "version": "3.11.1"
    },
    "orig_nbformat": 4,
    "vscode": {
      "interpreter": {
        "hash": "5026d2d6e7aaaaba093def813beadff083d8733e4a511af01735cbabd156995d"
      }
    }
  },
  "nbformat": 4,
  "nbformat_minor": 0
}
